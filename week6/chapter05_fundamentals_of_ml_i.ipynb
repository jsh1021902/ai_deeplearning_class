{
  "cells": [
    {
      "cell_type": "markdown",
      "metadata": {
        "id": "view-in-github",
        "colab_type": "text"
      },
      "source": [
        "<a href=\"https://colab.research.google.com/github/jsh1021902/ai_deeplearning_class/blob/main/week6/chapter05_fundamentals_of_ml_i.ipynb\" target=\"_parent\"><img src=\"https://colab.research.google.com/assets/colab-badge.svg\" alt=\"Open In Colab\"/></a>"
      ]
    },
    {
      "cell_type": "markdown",
      "metadata": {
        "id": "f5s2St735bnZ"
      },
      "source": [
        "This is a companion notebook for the book [Deep Learning with Python, Second Edition](https://www.manning.com/books/deep-learning-with-python-second-edition?a_aid=keras&a_bid=76564dff). For readability, it only contains runnable code blocks and section titles, and omits everything else in the book: text paragraphs, figures, and pseudocode.\n",
        "\n",
        "**If you want to be able to follow what's going on, I recommend reading the notebook side by side with your copy of the book.**\n",
        "\n",
        "This notebook was generated for TensorFlow 2.6."
      ]
    },
    {
      "cell_type": "markdown",
      "metadata": {
        "id": "-FRelvhF5bna"
      },
      "source": [
        "# Fundamentals of machine learning"
      ]
    },
    {
      "cell_type": "markdown",
      "metadata": {
        "id": "6NIQiOXN5bnb"
      },
      "source": [
        "## Generalization: The goal of machine learning"
      ]
    },
    {
      "cell_type": "markdown",
      "metadata": {
        "id": "rXYVhVHX5bnb"
      },
      "source": [
        "### Underfitting and overfitting"
      ]
    },
    {
      "cell_type": "markdown",
      "metadata": {
        "id": "aWSorX0E5bnb"
      },
      "source": [
        "#### Noisy training data"
      ]
    },
    {
      "cell_type": "markdown",
      "metadata": {
        "id": "IHh-Fnnc5bnb"
      },
      "source": [
        "#### Ambiguous features"
      ]
    },
    {
      "cell_type": "markdown",
      "metadata": {
        "id": "pFfp9oUa5bnb"
      },
      "source": [
        "#### Rare features and spurious correlations"
      ]
    },
    {
      "cell_type": "markdown",
      "metadata": {
        "id": "vSn2kpvu5bnb"
      },
      "source": [
        "**Adding white-noise channels or all-zeros channels to MNIST**"
      ]
    },
    {
      "cell_type": "code",
      "execution_count": 23,
      "metadata": {
        "id": "diCeosEs5bnb"
      },
      "outputs": [],
      "source": [
        "from tensorflow.keras.datasets import mnist\n",
        "import numpy as np\n",
        "\n",
        "(train_images, train_labels), _ = mnist.load_data()\n",
        "train_images = train_images.reshape((60000, 28 * 28))\n",
        "train_images = train_images.astype(\"float32\") / 255\n",
        "\n",
        "train_images_with_noise_channels = np.concatenate(\n",
        "    [train_images, np.random.random((len(train_images), 784))], axis=1)\n",
        "\n",
        "train_images_with_zeros_channels = np.concatenate(\n",
        "    [train_images, np.zeros((len(train_images), 784))], axis=1)"
      ]
    },
    {
      "cell_type": "code",
      "source": [
        "train_images.shape"
      ],
      "metadata": {
        "colab": {
          "base_uri": "https://localhost:8080/"
        },
        "id": "-ktTByHM5p8D",
        "outputId": "1f3b4421-8ece-4b58-8eaa-05b95d24ac86"
      },
      "execution_count": 24,
      "outputs": [
        {
          "output_type": "execute_result",
          "data": {
            "text/plain": [
              "(60000, 784)"
            ]
          },
          "metadata": {},
          "execution_count": 24
        }
      ]
    },
    {
      "cell_type": "code",
      "source": [
        "np.random.random((len(train_images), 784)).shape"
      ],
      "metadata": {
        "colab": {
          "base_uri": "https://localhost:8080/"
        },
        "id": "oEVBstt65skU",
        "outputId": "c0b36690-f037-46a2-c6f8-d8d8d00e1a94"
      },
      "execution_count": 25,
      "outputs": [
        {
          "output_type": "execute_result",
          "data": {
            "text/plain": [
              "(60000, 784)"
            ]
          },
          "metadata": {},
          "execution_count": 25
        }
      ]
    },
    {
      "cell_type": "code",
      "source": [
        "np.concatenate(\n",
        "    [train_images, np.zeros((len(train_images), 784))], axis=1).shape"
      ],
      "metadata": {
        "colab": {
          "base_uri": "https://localhost:8080/"
        },
        "id": "usEUUw8J5yBN",
        "outputId": "83a97ae8-6849-40d1-d0e7-565f2cd742bf"
      },
      "execution_count": 26,
      "outputs": [
        {
          "output_type": "execute_result",
          "data": {
            "text/plain": [
              "(60000, 1568)"
            ]
          },
          "metadata": {},
          "execution_count": 26
        }
      ]
    },
    {
      "cell_type": "code",
      "source": [
        "train_images_with_noise_channels[0]"
      ],
      "metadata": {
        "colab": {
          "base_uri": "https://localhost:8080/"
        },
        "id": "0JPioQaX6DZN",
        "outputId": "b49ade2c-09d1-4d50-9a62-683516f03101"
      },
      "execution_count": 27,
      "outputs": [
        {
          "output_type": "execute_result",
          "data": {
            "text/plain": [
              "array([0.        , 0.        , 0.        , ..., 0.76974828, 0.84251481,\n",
              "       0.25370115])"
            ]
          },
          "metadata": {},
          "execution_count": 27
        }
      ]
    },
    {
      "cell_type": "code",
      "source": [
        "np.random.random?"
      ],
      "metadata": {
        "id": "LmJPvW5J6I23"
      },
      "execution_count": 28,
      "outputs": []
    },
    {
      "cell_type": "code",
      "source": [
        "train_images_with_zeros_channels[0]"
      ],
      "metadata": {
        "colab": {
          "base_uri": "https://localhost:8080/"
        },
        "id": "d5rNHYeI6Pkx",
        "outputId": "2b16241e-772c-402e-8747-12622e8286a4"
      },
      "execution_count": 29,
      "outputs": [
        {
          "output_type": "execute_result",
          "data": {
            "text/plain": [
              "array([0., 0., 0., ..., 0., 0., 0.])"
            ]
          },
          "metadata": {},
          "execution_count": 29
        }
      ]
    },
    {
      "cell_type": "markdown",
      "metadata": {
        "id": "9DuEpWGh5bnc"
      },
      "source": [
        "**Training the same model on MNIST data with noise channels or all-zero channels**"
      ]
    },
    {
      "cell_type": "code",
      "execution_count": 30,
      "metadata": {
        "id": "D0WAURyK5bnd",
        "colab": {
          "base_uri": "https://localhost:8080/"
        },
        "outputId": "66106f0a-3777-4214-ebdf-65527f113a1d"
      },
      "outputs": [
        {
          "output_type": "stream",
          "name": "stdout",
          "text": [
            "Epoch 1/10\n",
            "375/375 [==============================] - 3s 4ms/step - loss: 0.6179 - accuracy: 0.8109 - val_loss: 0.2768 - val_accuracy: 0.9175\n",
            "Epoch 2/10\n",
            "375/375 [==============================] - 1s 4ms/step - loss: 0.2584 - accuracy: 0.9206 - val_loss: 0.1971 - val_accuracy: 0.9395\n",
            "Epoch 3/10\n",
            "375/375 [==============================] - 1s 4ms/step - loss: 0.1719 - accuracy: 0.9477 - val_loss: 0.1965 - val_accuracy: 0.9388\n",
            "Epoch 4/10\n",
            "375/375 [==============================] - 1s 4ms/step - loss: 0.1226 - accuracy: 0.9624 - val_loss: 0.1763 - val_accuracy: 0.9448\n",
            "Epoch 5/10\n",
            "375/375 [==============================] - 1s 3ms/step - loss: 0.0904 - accuracy: 0.9717 - val_loss: 0.1506 - val_accuracy: 0.9540\n",
            "Epoch 6/10\n",
            "375/375 [==============================] - 1s 4ms/step - loss: 0.0668 - accuracy: 0.9782 - val_loss: 0.1482 - val_accuracy: 0.9555\n",
            "Epoch 7/10\n",
            "375/375 [==============================] - 1s 3ms/step - loss: 0.0485 - accuracy: 0.9845 - val_loss: 0.1428 - val_accuracy: 0.9586\n",
            "Epoch 8/10\n",
            "375/375 [==============================] - 1s 4ms/step - loss: 0.0370 - accuracy: 0.9886 - val_loss: 0.1199 - val_accuracy: 0.9682\n",
            "Epoch 9/10\n",
            "375/375 [==============================] - 2s 5ms/step - loss: 0.0266 - accuracy: 0.9918 - val_loss: 0.1369 - val_accuracy: 0.9625\n",
            "Epoch 10/10\n",
            "375/375 [==============================] - 1s 4ms/step - loss: 0.0193 - accuracy: 0.9942 - val_loss: 0.1217 - val_accuracy: 0.9697\n",
            "Epoch 1/10\n",
            "375/375 [==============================] - 3s 5ms/step - loss: 0.2970 - accuracy: 0.9155 - val_loss: 0.1606 - val_accuracy: 0.9533\n",
            "Epoch 2/10\n",
            "375/375 [==============================] - 2s 7ms/step - loss: 0.1241 - accuracy: 0.9636 - val_loss: 0.1047 - val_accuracy: 0.9703\n",
            "Epoch 3/10\n",
            "375/375 [==============================] - 1s 3ms/step - loss: 0.0815 - accuracy: 0.9755 - val_loss: 0.0909 - val_accuracy: 0.9731\n",
            "Epoch 4/10\n",
            "375/375 [==============================] - 1s 3ms/step - loss: 0.0583 - accuracy: 0.9831 - val_loss: 0.0867 - val_accuracy: 0.9740\n",
            "Epoch 5/10\n",
            "375/375 [==============================] - 1s 3ms/step - loss: 0.0438 - accuracy: 0.9873 - val_loss: 0.0779 - val_accuracy: 0.9769\n",
            "Epoch 6/10\n",
            "375/375 [==============================] - 1s 3ms/step - loss: 0.0332 - accuracy: 0.9903 - val_loss: 0.0711 - val_accuracy: 0.9787\n",
            "Epoch 7/10\n",
            "375/375 [==============================] - 1s 3ms/step - loss: 0.0250 - accuracy: 0.9930 - val_loss: 0.0768 - val_accuracy: 0.9787\n",
            "Epoch 8/10\n",
            "375/375 [==============================] - 1s 4ms/step - loss: 0.0191 - accuracy: 0.9948 - val_loss: 0.0734 - val_accuracy: 0.9799\n",
            "Epoch 9/10\n",
            "375/375 [==============================] - 1s 3ms/step - loss: 0.0144 - accuracy: 0.9961 - val_loss: 0.0692 - val_accuracy: 0.9803\n",
            "Epoch 10/10\n",
            "375/375 [==============================] - 2s 4ms/step - loss: 0.0101 - accuracy: 0.9977 - val_loss: 0.0783 - val_accuracy: 0.9785\n"
          ]
        }
      ],
      "source": [
        "from tensorflow import keras\n",
        "from tensorflow.keras import layers\n",
        "\n",
        "def get_model():\n",
        "    model = keras.Sequential([\n",
        "        layers.Dense(512, activation=\"relu\"),\n",
        "        layers.Dense(10, activation=\"softmax\")\n",
        "    ])\n",
        "    model.compile(optimizer=\"rmsprop\",\n",
        "                  loss=\"sparse_categorical_crossentropy\",\n",
        "                  metrics=[\"accuracy\"])\n",
        "    return model\n",
        "\n",
        "model = get_model()\n",
        "history_noise = model.fit(\n",
        "    train_images_with_noise_channels, train_labels,\n",
        "    epochs=10,\n",
        "    batch_size=128,\n",
        "    validation_split=0.2)\n",
        "\n",
        "model = get_model()\n",
        "history_zeros = model.fit(\n",
        "    train_images_with_zeros_channels, train_labels,\n",
        "    epochs=10,\n",
        "    batch_size=128,\n",
        "    validation_split=0.2)"
      ]
    },
    {
      "cell_type": "code",
      "source": [
        "model3 = get_model()\n",
        "history_original = model3.fit(\n",
        "    train_images, train_labels,\n",
        "    epochs=10,\n",
        "    batch_size=128,\n",
        "    validation_split=0.2)"
      ],
      "metadata": {
        "colab": {
          "base_uri": "https://localhost:8080/"
        },
        "id": "oKutQQyz5A8J",
        "outputId": "1f548973-cb3f-4e1f-b184-5f53473bd85e"
      },
      "execution_count": 31,
      "outputs": [
        {
          "output_type": "stream",
          "name": "stdout",
          "text": [
            "Epoch 1/10\n",
            "375/375 [==============================] - 3s 5ms/step - loss: 0.2931 - accuracy: 0.9168 - val_loss: 0.1522 - val_accuracy: 0.9555\n",
            "Epoch 2/10\n",
            "375/375 [==============================] - 2s 5ms/step - loss: 0.1231 - accuracy: 0.9636 - val_loss: 0.1121 - val_accuracy: 0.9676\n",
            "Epoch 3/10\n",
            "375/375 [==============================] - 3s 7ms/step - loss: 0.0805 - accuracy: 0.9759 - val_loss: 0.0940 - val_accuracy: 0.9718\n",
            "Epoch 4/10\n",
            "375/375 [==============================] - 2s 4ms/step - loss: 0.0574 - accuracy: 0.9822 - val_loss: 0.0836 - val_accuracy: 0.9749\n",
            "Epoch 5/10\n",
            "375/375 [==============================] - 2s 4ms/step - loss: 0.0427 - accuracy: 0.9871 - val_loss: 0.0879 - val_accuracy: 0.9737\n",
            "Epoch 6/10\n",
            "375/375 [==============================] - 2s 5ms/step - loss: 0.0321 - accuracy: 0.9910 - val_loss: 0.0743 - val_accuracy: 0.9790\n",
            "Epoch 7/10\n",
            "375/375 [==============================] - 1s 4ms/step - loss: 0.0240 - accuracy: 0.9931 - val_loss: 0.0783 - val_accuracy: 0.9778\n",
            "Epoch 8/10\n",
            "375/375 [==============================] - 1s 4ms/step - loss: 0.0184 - accuracy: 0.9951 - val_loss: 0.0729 - val_accuracy: 0.9804\n",
            "Epoch 9/10\n",
            "375/375 [==============================] - 1s 4ms/step - loss: 0.0132 - accuracy: 0.9966 - val_loss: 0.0750 - val_accuracy: 0.9798\n",
            "Epoch 10/10\n",
            "375/375 [==============================] - 2s 6ms/step - loss: 0.0102 - accuracy: 0.9977 - val_loss: 0.0748 - val_accuracy: 0.9794\n"
          ]
        }
      ]
    },
    {
      "cell_type": "markdown",
      "metadata": {
        "id": "jrYBW4XY5bnd"
      },
      "source": [
        "**Plotting a validation accuracy comparison**"
      ]
    },
    {
      "cell_type": "code",
      "execution_count": 33,
      "metadata": {
        "id": "R171nkp45bnd",
        "colab": {
          "base_uri": "https://localhost:8080/",
          "height": 490
        },
        "outputId": "63edd7e8-8a06-4449-f021-b7cc07d5688d"
      },
      "outputs": [
        {
          "output_type": "execute_result",
          "data": {
            "text/plain": [
              "<matplotlib.legend.Legend at 0x7f50ec2e4fa0>"
            ]
          },
          "metadata": {},
          "execution_count": 33
        },
        {
          "output_type": "display_data",
          "data": {
            "text/plain": [
              "<Figure size 640x480 with 1 Axes>"
            ],
            "image/png": "[encoded data removed]"
          },
          "metadata": {}
        }
      ],
      "source": [
        "import matplotlib.pyplot as plt\n",
        "val_acc_noise = history_noise.history[\"val_accuracy\"]\n",
        "val_acc_zeros = history_zeros.history[\"val_accuracy\"]\n",
        "val_acc_original = history_original.history[\"val_accuracy\"]\n",
        "epochs = range(1, 11)\n",
        "plt.plot(epochs, val_acc_noise, \"b-\",\n",
        "         label=\"Validation accuracy with noise channels\")\n",
        "plt.plot(epochs, val_acc_zeros, \"b--\",\n",
        "         label=\"Validation accuracy with zeros channels\")\n",
        "plt.plot(epochs, val_acc_original,\"r--\",\n",
        "         label=\"Validation accuracy with original channels\")\n",
        "plt.title(\"Effect of noise channels on validation accuracy\")\n",
        "plt.xlabel(\"Epochs\")\n",
        "plt.ylabel(\"Accuracy\")\n",
        "plt.legend()"
      ]
    },
    {
      "cell_type": "markdown",
      "metadata": {
        "id": "h5-I9fM75bne"
      },
      "source": [
        "### The nature of generalization in deep learning"
      ]
    },
    {
      "cell_type": "markdown",
      "metadata": {
        "id": "Y1BjGIb35bne"
      },
      "source": [
        "**Fitting a MNIST model with randomly shuffled labels**"
      ]
    },
    {
      "cell_type": "code",
      "execution_count": null,
      "metadata": {
        "id": "oPzL1Y2H5bne",
        "colab": {
          "base_uri": "https://localhost:8080/"
        },
        "outputId": "74d44bef-62ca-4377-d2e3-aef5791fc024"
      },
      "outputs": [
        {
          "output_type": "stream",
          "name": "stdout",
          "text": [
            "Epoch 1/100\n",
            "375/375 [==============================] - 2s 4ms/step - loss: 2.3150 - accuracy: 0.1048 - val_loss: 2.3037 - val_accuracy: 0.1120\n",
            "Epoch 2/100\n",
            "375/375 [==============================] - 1s 3ms/step - loss: 2.2984 - accuracy: 0.1174 - val_loss: 2.3105 - val_accuracy: 0.1032\n",
            "Epoch 3/100\n",
            "375/375 [==============================] - 1s 3ms/step - loss: 2.2895 - accuracy: 0.1270 - val_loss: 2.3186 - val_accuracy: 0.0967\n",
            "Epoch 4/100\n",
            "375/375 [==============================] - 1s 3ms/step - loss: 2.2765 - accuracy: 0.1396 - val_loss: 2.3238 - val_accuracy: 0.1024\n",
            "Epoch 5/100\n",
            "375/375 [==============================] - 1s 3ms/step - loss: 2.2599 - accuracy: 0.1547 - val_loss: 2.3401 - val_accuracy: 0.1024\n",
            "Epoch 6/100\n",
            "375/375 [==============================] - 1s 4ms/step - loss: 2.2387 - accuracy: 0.1656 - val_loss: 2.3494 - val_accuracy: 0.1045\n",
            "Epoch 7/100\n",
            "375/375 [==============================] - 2s 4ms/step - loss: 2.2142 - accuracy: 0.1812 - val_loss: 2.3652 - val_accuracy: 0.1007\n",
            "Epoch 8/100\n",
            "375/375 [==============================] - 1s 3ms/step - loss: 2.1875 - accuracy: 0.2030 - val_loss: 2.3867 - val_accuracy: 0.1016\n",
            "Epoch 9/100\n",
            "375/375 [==============================] - 1s 3ms/step - loss: 2.1568 - accuracy: 0.2178 - val_loss: 2.4177 - val_accuracy: 0.1016\n",
            "Epoch 10/100\n",
            "375/375 [==============================] - 1s 3ms/step - loss: 2.1249 - accuracy: 0.2362 - val_loss: 2.4339 - val_accuracy: 0.1013\n",
            "Epoch 11/100\n",
            "375/375 [==============================] - 1s 3ms/step - loss: 2.0911 - accuracy: 0.2513 - val_loss: 2.4656 - val_accuracy: 0.0996\n",
            "Epoch 12/100\n",
            "375/375 [==============================] - 1s 3ms/step - loss: 2.0544 - accuracy: 0.2663 - val_loss: 2.4787 - val_accuracy: 0.1002\n",
            "Epoch 13/100\n",
            "375/375 [==============================] - 1s 3ms/step - loss: 2.0171 - accuracy: 0.2864 - val_loss: 2.5142 - val_accuracy: 0.0994\n",
            "Epoch 14/100\n",
            "375/375 [==============================] - 1s 3ms/step - loss: 1.9783 - accuracy: 0.3000 - val_loss: 2.5464 - val_accuracy: 0.1018\n",
            "Epoch 15/100\n",
            "375/375 [==============================] - 1s 3ms/step - loss: 1.9391 - accuracy: 0.3174 - val_loss: 2.5736 - val_accuracy: 0.0986\n",
            "Epoch 16/100\n",
            "375/375 [==============================] - 2s 4ms/step - loss: 1.9000 - accuracy: 0.3324 - val_loss: 2.6227 - val_accuracy: 0.0967\n",
            "Epoch 17/100\n",
            "375/375 [==============================] - 1s 3ms/step - loss: 1.8606 - accuracy: 0.3475 - val_loss: 2.6467 - val_accuracy: 0.0968\n",
            "Epoch 18/100\n",
            "375/375 [==============================] - 2s 5ms/step - loss: 1.8221 - accuracy: 0.3640 - val_loss: 2.6930 - val_accuracy: 0.0967\n",
            "Epoch 19/100\n",
            "375/375 [==============================] - 1s 4ms/step - loss: 1.7839 - accuracy: 0.3791 - val_loss: 2.7208 - val_accuracy: 0.1014\n",
            "Epoch 20/100\n",
            "375/375 [==============================] - 1s 3ms/step - loss: 1.7463 - accuracy: 0.3925 - val_loss: 2.7762 - val_accuracy: 0.1008\n",
            "Epoch 21/100\n",
            "375/375 [==============================] - 1s 3ms/step - loss: 1.7092 - accuracy: 0.4094 - val_loss: 2.7992 - val_accuracy: 0.0982\n",
            "Epoch 22/100\n",
            "375/375 [==============================] - 1s 3ms/step - loss: 1.6706 - accuracy: 0.4234 - val_loss: 2.8455 - val_accuracy: 0.0980\n",
            "Epoch 23/100\n",
            "375/375 [==============================] - 1s 3ms/step - loss: 1.6366 - accuracy: 0.4369 - val_loss: 2.9182 - val_accuracy: 0.0955\n",
            "Epoch 24/100\n",
            "375/375 [==============================] - 1s 3ms/step - loss: 1.5993 - accuracy: 0.4507 - val_loss: 2.9475 - val_accuracy: 0.0986\n",
            "Epoch 25/100\n",
            "375/375 [==============================] - 2s 4ms/step - loss: 1.5653 - accuracy: 0.4654 - val_loss: 3.0026 - val_accuracy: 0.0960\n",
            "Epoch 26/100\n",
            "375/375 [==============================] - 1s 3ms/step - loss: 1.5322 - accuracy: 0.4757 - val_loss: 3.0175 - val_accuracy: 0.1007\n",
            "Epoch 27/100\n",
            "375/375 [==============================] - 1s 3ms/step - loss: 1.4972 - accuracy: 0.4891 - val_loss: 3.0817 - val_accuracy: 0.0968\n",
            "Epoch 28/100\n",
            "375/375 [==============================] - 1s 3ms/step - loss: 1.4660 - accuracy: 0.4990 - val_loss: 3.1377 - val_accuracy: 0.0973\n",
            "Epoch 29/100\n",
            "375/375 [==============================] - 1s 3ms/step - loss: 1.4347 - accuracy: 0.5127 - val_loss: 3.1928 - val_accuracy: 0.0993\n",
            "Epoch 30/100\n",
            "375/375 [==============================] - 1s 3ms/step - loss: 1.4011 - accuracy: 0.5254 - val_loss: 3.2215 - val_accuracy: 0.0971\n",
            "Epoch 31/100\n",
            "375/375 [==============================] - 1s 3ms/step - loss: 1.3742 - accuracy: 0.5349 - val_loss: 3.2837 - val_accuracy: 0.0983\n",
            "Epoch 32/100\n",
            "375/375 [==============================] - 1s 3ms/step - loss: 1.3405 - accuracy: 0.5489 - val_loss: 3.3430 - val_accuracy: 0.0988\n",
            "Epoch 33/100\n",
            "375/375 [==============================] - 1s 3ms/step - loss: 1.3137 - accuracy: 0.5527 - val_loss: 3.3964 - val_accuracy: 0.1017\n",
            "Epoch 34/100\n",
            "375/375 [==============================] - 1s 4ms/step - loss: 1.2876 - accuracy: 0.5666 - val_loss: 3.4479 - val_accuracy: 0.1001\n",
            "Epoch 35/100\n",
            "375/375 [==============================] - 2s 4ms/step - loss: 1.2582 - accuracy: 0.5756 - val_loss: 3.5023 - val_accuracy: 0.0970\n",
            "Epoch 36/100\n",
            "375/375 [==============================] - 1s 3ms/step - loss: 1.2305 - accuracy: 0.5861 - val_loss: 3.5597 - val_accuracy: 0.1004\n",
            "Epoch 37/100\n",
            "375/375 [==============================] - 1s 3ms/step - loss: 1.2046 - accuracy: 0.5965 - val_loss: 3.6162 - val_accuracy: 0.0997\n",
            "Epoch 38/100\n",
            "375/375 [==============================] - 1s 3ms/step - loss: 1.1790 - accuracy: 0.6045 - val_loss: 3.6671 - val_accuracy: 0.0990\n",
            "Epoch 39/100\n",
            "375/375 [==============================] - 1s 3ms/step - loss: 1.1539 - accuracy: 0.6144 - val_loss: 3.7391 - val_accuracy: 0.0956\n",
            "Epoch 40/100\n",
            "375/375 [==============================] - 1s 3ms/step - loss: 1.1299 - accuracy: 0.6207 - val_loss: 3.7957 - val_accuracy: 0.0941\n",
            "Epoch 41/100\n",
            "375/375 [==============================] - 1s 3ms/step - loss: 1.1048 - accuracy: 0.6315 - val_loss: 3.8311 - val_accuracy: 0.0988\n",
            "Epoch 42/100\n",
            "375/375 [==============================] - 1s 3ms/step - loss: 1.0821 - accuracy: 0.6388 - val_loss: 3.9033 - val_accuracy: 0.0988\n",
            "Epoch 43/100\n",
            "375/375 [==============================] - 1s 3ms/step - loss: 1.0611 - accuracy: 0.6465 - val_loss: 3.9757 - val_accuracy: 0.0999\n",
            "Epoch 44/100\n",
            "375/375 [==============================] - 2s 4ms/step - loss: 1.0378 - accuracy: 0.6540 - val_loss: 4.0172 - val_accuracy: 0.0983\n",
            "Epoch 45/100\n",
            "375/375 [==============================] - 1s 4ms/step - loss: 1.0144 - accuracy: 0.6612 - val_loss: 4.0837 - val_accuracy: 0.0971\n",
            "Epoch 46/100\n",
            "375/375 [==============================] - 1s 3ms/step - loss: 0.9957 - accuracy: 0.6687 - val_loss: 4.1982 - val_accuracy: 0.1007\n",
            "Epoch 47/100\n",
            "375/375 [==============================] - 1s 3ms/step - loss: 0.9760 - accuracy: 0.6770 - val_loss: 4.2249 - val_accuracy: 0.0956\n",
            "Epoch 48/100\n",
            "375/375 [==============================] - 1s 3ms/step - loss: 0.9550 - accuracy: 0.6853 - val_loss: 4.2278 - val_accuracy: 0.0972\n",
            "Epoch 49/100\n",
            "375/375 [==============================] - 1s 3ms/step - loss: 0.9329 - accuracy: 0.6907 - val_loss: 4.3408 - val_accuracy: 0.0997\n",
            "Epoch 50/100\n",
            "375/375 [==============================] - 1s 3ms/step - loss: 0.9147 - accuracy: 0.6977 - val_loss: 4.4467 - val_accuracy: 0.0953\n",
            "Epoch 51/100\n",
            "375/375 [==============================] - 1s 3ms/step - loss: 0.8967 - accuracy: 0.7058 - val_loss: 4.4856 - val_accuracy: 0.0997\n",
            "Epoch 52/100\n",
            "375/375 [==============================] - 1s 3ms/step - loss: 0.8773 - accuracy: 0.7122 - val_loss: 4.5022 - val_accuracy: 0.1008\n",
            "Epoch 53/100\n",
            "375/375 [==============================] - 1s 4ms/step - loss: 0.8575 - accuracy: 0.7188 - val_loss: 4.6034 - val_accuracy: 0.0972\n",
            "Epoch 54/100\n",
            "375/375 [==============================] - 2s 4ms/step - loss: 0.8428 - accuracy: 0.7253 - val_loss: 4.6627 - val_accuracy: 0.1001\n",
            "Epoch 55/100\n",
            "375/375 [==============================] - 1s 3ms/step - loss: 0.8230 - accuracy: 0.7313 - val_loss: 4.7476 - val_accuracy: 0.0992\n",
            "Epoch 56/100\n",
            "375/375 [==============================] - 1s 3ms/step - loss: 0.8084 - accuracy: 0.7360 - val_loss: 4.8234 - val_accuracy: 0.1014\n",
            "Epoch 57/100\n",
            "375/375 [==============================] - 1s 3ms/step - loss: 0.7909 - accuracy: 0.7439 - val_loss: 4.8672 - val_accuracy: 0.0996\n",
            "Epoch 58/100\n",
            "375/375 [==============================] - 1s 3ms/step - loss: 0.7763 - accuracy: 0.7477 - val_loss: 4.9149 - val_accuracy: 0.0997\n",
            "Epoch 59/100\n",
            "375/375 [==============================] - 1s 3ms/step - loss: 0.7616 - accuracy: 0.7506 - val_loss: 4.9575 - val_accuracy: 0.0995\n",
            "Epoch 60/100\n",
            "375/375 [==============================] - 1s 3ms/step - loss: 0.7438 - accuracy: 0.7597 - val_loss: 5.0509 - val_accuracy: 0.1023\n",
            "Epoch 61/100\n",
            "375/375 [==============================] - 1s 3ms/step - loss: 0.7297 - accuracy: 0.7635 - val_loss: 5.1224 - val_accuracy: 0.0964\n",
            "Epoch 62/100\n",
            "375/375 [==============================] - 1s 3ms/step - loss: 0.7151 - accuracy: 0.7696 - val_loss: 5.1947 - val_accuracy: 0.0970\n",
            "Epoch 63/100\n",
            "375/375 [==============================] - 1s 4ms/step - loss: 0.7012 - accuracy: 0.7739 - val_loss: 5.3022 - val_accuracy: 0.0950\n",
            "Epoch 64/100\n",
            "375/375 [==============================] - 2s 4ms/step - loss: 0.6847 - accuracy: 0.7787 - val_loss: 5.3387 - val_accuracy: 0.0991\n",
            "Epoch 65/100\n",
            "375/375 [==============================] - 1s 3ms/step - loss: 0.6731 - accuracy: 0.7820 - val_loss: 5.4569 - val_accuracy: 0.0960\n",
            "Epoch 66/100\n",
            "375/375 [==============================] - 1s 3ms/step - loss: 0.6595 - accuracy: 0.7868 - val_loss: 5.5178 - val_accuracy: 0.0965\n",
            "Epoch 67/100\n",
            "375/375 [==============================] - 1s 3ms/step - loss: 0.6439 - accuracy: 0.7945 - val_loss: 5.5718 - val_accuracy: 0.0982\n",
            "Epoch 68/100\n",
            "375/375 [==============================] - 1s 3ms/step - loss: 0.6306 - accuracy: 0.7967 - val_loss: 5.6153 - val_accuracy: 0.0977\n",
            "Epoch 69/100\n",
            "375/375 [==============================] - 1s 3ms/step - loss: 0.6206 - accuracy: 0.8012 - val_loss: 5.7084 - val_accuracy: 0.0991\n",
            "Epoch 70/100\n",
            "375/375 [==============================] - 1s 3ms/step - loss: 0.6082 - accuracy: 0.8042 - val_loss: 5.7417 - val_accuracy: 0.1007\n",
            "Epoch 71/100\n",
            "375/375 [==============================] - 1s 3ms/step - loss: 0.6004 - accuracy: 0.8066 - val_loss: 5.8173 - val_accuracy: 0.1000\n",
            "Epoch 72/100\n",
            "375/375 [==============================] - 1s 3ms/step - loss: 0.5851 - accuracy: 0.8119 - val_loss: 5.8642 - val_accuracy: 0.0985\n",
            "Epoch 73/100\n",
            "375/375 [==============================] - 1s 4ms/step - loss: 0.5710 - accuracy: 0.8180 - val_loss: 5.9837 - val_accuracy: 0.0998\n",
            "Epoch 74/100\n",
            "375/375 [==============================] - 2s 4ms/step - loss: 0.5616 - accuracy: 0.8217 - val_loss: 6.0771 - val_accuracy: 0.1012\n",
            "Epoch 75/100\n",
            "375/375 [==============================] - 1s 3ms/step - loss: 0.5523 - accuracy: 0.8240 - val_loss: 6.0892 - val_accuracy: 0.0993\n",
            "Epoch 76/100\n",
            "375/375 [==============================] - 1s 3ms/step - loss: 0.5395 - accuracy: 0.8284 - val_loss: 6.1927 - val_accuracy: 0.0975\n",
            "Epoch 77/100\n",
            "375/375 [==============================] - 1s 3ms/step - loss: 0.5330 - accuracy: 0.8299 - val_loss: 6.2750 - val_accuracy: 0.1005\n",
            "Epoch 78/100\n",
            "375/375 [==============================] - 1s 3ms/step - loss: 0.5216 - accuracy: 0.8343 - val_loss: 6.3357 - val_accuracy: 0.0998\n",
            "Epoch 79/100\n",
            " 22/375 [>.............................] - ETA: 0s - loss: 0.4425 - accuracy: 0.8732"
          ]
        }
      ],
      "source": [
        "(train_images, train_labels), _ = mnist.load_data()\n",
        "train_images = train_images.reshape((60000, 28 * 28))\n",
        "train_images = train_images.astype(\"float32\") / 255\n",
        "\n",
        "random_train_labels = train_labels[:]\n",
        "np.random.shuffle(random_train_labels)\n",
        "\n",
        "model = keras.Sequential([\n",
        "    layers.Dense(512, activation=\"relu\"),\n",
        "    layers.Dense(10, activation=\"softmax\")\n",
        "])\n",
        "model.compile(optimizer=\"rmsprop\",\n",
        "              loss=\"sparse_categorical_crossentropy\",\n",
        "              metrics=[\"accuracy\"])\n",
        "model.fit(train_images, random_train_labels,\n",
        "          epochs=100,\n",
        "          batch_size=128,\n",
        "          validation_split=0.2)"
      ]
    },
    {
      "cell_type": "code",
      "source": [
        "import matplotlib.pyplot as plt\n",
        "val_acc = history.history[\"val_accuracy\"]\n",
        "epochs = range(1, 11)\n",
        "plt.plot(epochs, val_acc_noise, \"b-\",\n",
        "         label=\"Validation accuracy with noise channels\")\n",
        "plt.title(\"Effect of noise channels on validation accuracy\")\n",
        "plt.xlabel(\"Epochs\")\n",
        "plt.ylabel(\"Accuracy\")\n",
        "plt.legend()"
      ],
      "metadata": {
        "id": "nMv3dgxt7xGu"
      },
      "execution_count": null,
      "outputs": []
    },
    {
      "cell_type": "markdown",
      "metadata": {
        "id": "PRVSQzRI5bnf"
      },
      "source": [
        "#### The manifold hypothesis"
      ]
    },
    {
      "cell_type": "markdown",
      "metadata": {
        "id": "mJ9tF3pt5bnf"
      },
      "source": [
        "#### Interpolation as a source of generalization"
      ]
    },
    {
      "cell_type": "markdown",
      "metadata": {
        "id": "rIktJ8SB5bnf"
      },
      "source": [
        "#### Why deep learning works"
      ]
    },
    {
      "cell_type": "markdown",
      "metadata": {
        "id": "aJUaJwjE5bnf"
      },
      "source": [
        "#### Training data is paramount"
      ]
    },
    {
      "cell_type": "markdown",
      "metadata": {
        "id": "284_Xf5P5bnf"
      },
      "source": [
        "## Evaluating machine-learning models"
      ]
    },
    {
      "cell_type": "markdown",
      "metadata": {
        "id": "xDiirmsM5bng"
      },
      "source": [
        "### Training, validation, and test sets"
      ]
    },
    {
      "cell_type": "markdown",
      "metadata": {
        "id": "ZFv97HTI5bng"
      },
      "source": [
        "#### Simple hold-out validation"
      ]
    },
    {
      "cell_type": "markdown",
      "metadata": {
        "id": "zd5mZCaj5bng"
      },
      "source": [
        "#### K-fold validation"
      ]
    },
    {
      "cell_type": "markdown",
      "metadata": {
        "id": "zWOa7vM75bng"
      },
      "source": [
        "#### Iterated K-fold validation with shuffling"
      ]
    },
    {
      "cell_type": "markdown",
      "metadata": {
        "id": "XcA1Gew55bng"
      },
      "source": [
        "### Beating a common-sense baseline"
      ]
    },
    {
      "cell_type": "markdown",
      "metadata": {
        "id": "6iIKTnHt5bng"
      },
      "source": [
        "### Things to keep in mind about model evaluation"
      ]
    },
    {
      "cell_type": "markdown",
      "metadata": {
        "id": "4FECG9cc5bnh"
      },
      "source": [
        "## Improving model fit"
      ]
    },
    {
      "cell_type": "markdown",
      "metadata": {
        "id": "PFoXPlaH5bnh"
      },
      "source": [
        "### Tuning key gradient descent parameters"
      ]
    },
    {
      "cell_type": "markdown",
      "metadata": {
        "id": "YpDZsT8A5bnh"
      },
      "source": [
        "**Training a MNIST model with an incorrectly high learning rate**"
      ]
    },
    {
      "cell_type": "code",
      "execution_count": 34,
      "metadata": {
        "id": "jUFgWCmG5bnh",
        "colab": {
          "base_uri": "https://localhost:8080/"
        },
        "outputId": "86285f7e-a1bd-4aef-96ae-44e14dac581c"
      },
      "outputs": [
        {
          "output_type": "stream",
          "name": "stdout",
          "text": [
            "Epoch 1/10\n",
            "375/375 [==============================] - 2s 3ms/step - loss: 661.9688 - accuracy: 0.2864 - val_loss: 2.2432 - val_accuracy: 0.1781\n",
            "Epoch 2/10\n",
            "375/375 [==============================] - 1s 3ms/step - loss: 3.3632 - accuracy: 0.1505 - val_loss: 2.3658 - val_accuracy: 0.1739\n",
            "Epoch 3/10\n",
            "375/375 [==============================] - 1s 3ms/step - loss: 3.0104 - accuracy: 0.1670 - val_loss: 2.3138 - val_accuracy: 0.1596\n",
            "Epoch 4/10\n",
            "375/375 [==============================] - 1s 3ms/step - loss: 2.4223 - accuracy: 0.1519 - val_loss: 2.2420 - val_accuracy: 0.1796\n",
            "Epoch 5/10\n",
            "375/375 [==============================] - 1s 3ms/step - loss: 2.3896 - accuracy: 0.1685 - val_loss: 2.3580 - val_accuracy: 0.1689\n",
            "Epoch 6/10\n",
            "375/375 [==============================] - 1s 3ms/step - loss: 2.4915 - accuracy: 0.1704 - val_loss: 2.8793 - val_accuracy: 0.2043\n",
            "Epoch 7/10\n",
            "375/375 [==============================] - 2s 4ms/step - loss: 2.4696 - accuracy: 0.1569 - val_loss: 2.3780 - val_accuracy: 0.1345\n",
            "Epoch 8/10\n",
            "375/375 [==============================] - 1s 4ms/step - loss: 2.4709 - accuracy: 0.1621 - val_loss: 2.2908 - val_accuracy: 0.1647\n",
            "Epoch 9/10\n",
            "375/375 [==============================] - 1s 3ms/step - loss: 2.3209 - accuracy: 0.1743 - val_loss: 2.1299 - val_accuracy: 0.2023\n",
            "Epoch 10/10\n",
            "375/375 [==============================] - 1s 3ms/step - loss: 2.4407 - accuracy: 0.1750 - val_loss: 2.6816 - val_accuracy: 0.2357\n"
          ]
        },
        {
          "output_type": "execute_result",
          "data": {
            "text/plain": [
              "<keras.callbacks.History at 0x7f50e48d15b0>"
            ]
          },
          "metadata": {},
          "execution_count": 34
        }
      ],
      "source": [
        "(train_images, train_labels), _ = mnist.load_data()\n",
        "train_images = train_images.reshape((60000, 28 * 28))\n",
        "train_images = train_images.astype(\"float32\") / 255\n",
        "\n",
        "model = keras.Sequential([\n",
        "    layers.Dense(512, activation=\"relu\"),\n",
        "    layers.Dense(10, activation=\"softmax\")\n",
        "])\n",
        "model.compile(optimizer=keras.optimizers.RMSprop(1.),\n",
        "              loss=\"sparse_categorical_crossentropy\",\n",
        "              metrics=[\"accuracy\"])\n",
        "model.fit(train_images, train_labels,\n",
        "          epochs=10,\n",
        "          batch_size=128,\n",
        "          validation_split=0.2)"
      ]
    },
    {
      "cell_type": "code",
      "source": [
        "(train_images, train_labels), _ = mnist.load_data()\n",
        "train_images = train_images.reshape((60000, 28 * 28))\n",
        "train_images = train_images.astype(\"float32\") / 255\n",
        "\n",
        "model = keras.Sequential([\n",
        "    layers.Dense(512, activation=\"relu\"),\n",
        "    layers.Dense(10, activation=\"softmax\")\n",
        "])\n",
        "model.compile(optimizer=keras.optimizers.RMSprop(0.01),\n",
        "              loss=\"sparse_categorical_crossentropy\",\n",
        "              metrics=[\"accuracy\"])\n",
        "model.fit(train_images, train_labels,\n",
        "          epochs=10,\n",
        "          batch_size=128,\n",
        "          validation_split=0.2)"
      ],
      "metadata": {
        "colab": {
          "base_uri": "https://localhost:8080/"
        },
        "id": "KiHR9MoLAOq8",
        "outputId": "62bf0521-daa6-45b5-dcf0-3b1e0ba71f76"
      },
      "execution_count": 12,
      "outputs": [
        {
          "output_type": "stream",
          "name": "stdout",
          "text": [
            "Epoch 1/10\n",
            "375/375 [==============================] - 3s 4ms/step - loss: 0.3862 - accuracy: 0.9076 - val_loss: 0.1896 - val_accuracy: 0.9438\n",
            "Epoch 2/10\n",
            "375/375 [==============================] - 1s 3ms/step - loss: 0.1284 - accuracy: 0.9639 - val_loss: 0.1460 - val_accuracy: 0.9637\n",
            "Epoch 3/10\n",
            "375/375 [==============================] - 1s 3ms/step - loss: 0.0993 - accuracy: 0.9743 - val_loss: 0.1322 - val_accuracy: 0.9702\n",
            "Epoch 4/10\n",
            "375/375 [==============================] - 1s 3ms/step - loss: 0.0799 - accuracy: 0.9794 - val_loss: 0.1310 - val_accuracy: 0.9711\n",
            "Epoch 5/10\n",
            "375/375 [==============================] - 1s 3ms/step - loss: 0.0664 - accuracy: 0.9832 - val_loss: 0.1584 - val_accuracy: 0.9697\n",
            "Epoch 6/10\n",
            "375/375 [==============================] - 1s 3ms/step - loss: 0.0564 - accuracy: 0.9855 - val_loss: 0.1740 - val_accuracy: 0.9706\n",
            "Epoch 7/10\n",
            "375/375 [==============================] - 1s 3ms/step - loss: 0.0537 - accuracy: 0.9882 - val_loss: 0.1914 - val_accuracy: 0.9719\n",
            "Epoch 8/10\n",
            "375/375 [==============================] - 1s 3ms/step - loss: 0.0503 - accuracy: 0.9885 - val_loss: 0.2438 - val_accuracy: 0.9672\n",
            "Epoch 9/10\n",
            "375/375 [==============================] - 1s 4ms/step - loss: 0.0428 - accuracy: 0.9901 - val_loss: 0.2192 - val_accuracy: 0.9732\n",
            "Epoch 10/10\n",
            "375/375 [==============================] - 1s 4ms/step - loss: 0.0418 - accuracy: 0.9906 - val_loss: 0.2958 - val_accuracy: 0.9648\n"
          ]
        },
        {
          "output_type": "execute_result",
          "data": {
            "text/plain": [
              "<keras.callbacks.History at 0x7f50fb2eea90>"
            ]
          },
          "metadata": {},
          "execution_count": 12
        }
      ]
    },
    {
      "cell_type": "markdown",
      "metadata": {
        "id": "4UxbGcO75bnh"
      },
      "source": [
        "**The same model with a more appropriate learning rate**"
      ]
    },
    {
      "cell_type": "code",
      "execution_count": 37,
      "metadata": {
        "id": "x5dIcv7y5bni",
        "colab": {
          "base_uri": "https://localhost:8080/"
        },
        "outputId": "02e58365-fbf4-4274-afe5-5fec6727eeab"
      },
      "outputs": [
        {
          "output_type": "stream",
          "name": "stdout",
          "text": [
            "Epoch 1/10\n",
            "375/375 [==============================] - 2s 4ms/step - loss: 0.3328 - accuracy: 0.9115 - val_loss: 0.1364 - val_accuracy: 0.9620\n",
            "Epoch 2/10\n",
            "375/375 [==============================] - 1s 3ms/step - loss: 0.1263 - accuracy: 0.9637 - val_loss: 0.1313 - val_accuracy: 0.9668\n",
            "Epoch 3/10\n",
            "375/375 [==============================] - 1s 3ms/step - loss: 0.0979 - accuracy: 0.9742 - val_loss: 0.1403 - val_accuracy: 0.9687\n",
            "Epoch 4/10\n",
            "375/375 [==============================] - 1s 3ms/step - loss: 0.0835 - accuracy: 0.9787 - val_loss: 0.2091 - val_accuracy: 0.9608\n",
            "Epoch 5/10\n",
            "375/375 [==============================] - 2s 5ms/step - loss: 0.0671 - accuracy: 0.9825 - val_loss: 0.1644 - val_accuracy: 0.9688\n",
            "Epoch 6/10\n",
            "375/375 [==============================] - 1s 3ms/step - loss: 0.0589 - accuracy: 0.9854 - val_loss: 0.2050 - val_accuracy: 0.9713\n",
            "Epoch 7/10\n",
            "375/375 [==============================] - 1s 3ms/step - loss: 0.0556 - accuracy: 0.9870 - val_loss: 0.1773 - val_accuracy: 0.9745\n",
            "Epoch 8/10\n",
            "375/375 [==============================] - 1s 3ms/step - loss: 0.0555 - accuracy: 0.9884 - val_loss: 0.1963 - val_accuracy: 0.9737\n",
            "Epoch 9/10\n",
            "375/375 [==============================] - 1s 3ms/step - loss: 0.0469 - accuracy: 0.9900 - val_loss: 0.2171 - val_accuracy: 0.9760\n",
            "Epoch 10/10\n",
            "375/375 [==============================] - 1s 3ms/step - loss: 0.0399 - accuracy: 0.9912 - val_loss: 0.2474 - val_accuracy: 0.9704\n",
            "Epoch 1/20\n",
            "375/375 [==============================] - 1s 3ms/step - loss: 0.0404 - accuracy: 0.9916 - val_loss: 0.2298 - val_accuracy: 0.9754\n",
            "Epoch 2/20\n",
            "375/375 [==============================] - 1s 3ms/step - loss: 0.0364 - accuracy: 0.9924 - val_loss: 0.2575 - val_accuracy: 0.9752\n",
            "Epoch 3/20\n",
            "375/375 [==============================] - 1s 3ms/step - loss: 0.0313 - accuracy: 0.9934 - val_loss: 0.2396 - val_accuracy: 0.9765\n",
            "Epoch 4/20\n",
            "375/375 [==============================] - 2s 5ms/step - loss: 0.0289 - accuracy: 0.9936 - val_loss: 0.2479 - val_accuracy: 0.9753\n",
            "Epoch 5/20\n",
            "375/375 [==============================] - 1s 4ms/step - loss: 0.0249 - accuracy: 0.9947 - val_loss: 0.2531 - val_accuracy: 0.9772\n",
            "Epoch 6/20\n",
            "375/375 [==============================] - 1s 3ms/step - loss: 0.0237 - accuracy: 0.9948 - val_loss: 0.2283 - val_accuracy: 0.9786\n",
            "Epoch 7/20\n",
            "375/375 [==============================] - 1s 3ms/step - loss: 0.0205 - accuracy: 0.9955 - val_loss: 0.3041 - val_accuracy: 0.9765\n",
            "Epoch 8/20\n",
            "375/375 [==============================] - 1s 3ms/step - loss: 0.0202 - accuracy: 0.9957 - val_loss: 0.2959 - val_accuracy: 0.9753\n",
            "Epoch 9/20\n",
            "375/375 [==============================] - 1s 3ms/step - loss: 0.0200 - accuracy: 0.9956 - val_loss: 0.3363 - val_accuracy: 0.9740\n",
            "Epoch 10/20\n",
            "375/375 [==============================] - 1s 3ms/step - loss: 0.0172 - accuracy: 0.9968 - val_loss: 0.2855 - val_accuracy: 0.9774\n",
            "Epoch 11/20\n",
            "375/375 [==============================] - 1s 3ms/step - loss: 0.0164 - accuracy: 0.9969 - val_loss: 0.3027 - val_accuracy: 0.9743\n",
            "Epoch 12/20\n",
            "375/375 [==============================] - 1s 3ms/step - loss: 0.0156 - accuracy: 0.9967 - val_loss: 0.3497 - val_accuracy: 0.9753\n",
            "Epoch 13/20\n",
            "375/375 [==============================] - 2s 5ms/step - loss: 0.0140 - accuracy: 0.9970 - val_loss: 0.3291 - val_accuracy: 0.9755\n",
            "Epoch 14/20\n",
            "375/375 [==============================] - 3s 7ms/step - loss: 0.0116 - accuracy: 0.9971 - val_loss: 0.3288 - val_accuracy: 0.9774\n",
            "Epoch 15/20\n",
            "375/375 [==============================] - 2s 5ms/step - loss: 0.0137 - accuracy: 0.9971 - val_loss: 0.3649 - val_accuracy: 0.9759\n",
            "Epoch 16/20\n",
            "375/375 [==============================] - 1s 3ms/step - loss: 0.0093 - accuracy: 0.9981 - val_loss: 0.3136 - val_accuracy: 0.9775\n",
            "Epoch 17/20\n",
            "375/375 [==============================] - 1s 3ms/step - loss: 0.0114 - accuracy: 0.9978 - val_loss: 0.3645 - val_accuracy: 0.9764\n",
            "Epoch 18/20\n",
            "375/375 [==============================] - 1s 3ms/step - loss: 0.0133 - accuracy: 0.9971 - val_loss: 0.3841 - val_accuracy: 0.9775\n",
            "Epoch 19/20\n",
            "375/375 [==============================] - 1s 3ms/step - loss: 0.0094 - accuracy: 0.9981 - val_loss: 0.3562 - val_accuracy: 0.9771\n",
            "Epoch 20/20\n",
            "375/375 [==============================] - 1s 3ms/step - loss: 0.0113 - accuracy: 0.9979 - val_loss: 0.3437 - val_accuracy: 0.9778\n"
          ]
        }
      ],
      "source": [
        "model = keras.Sequential([\n",
        "    layers.Dense(512, activation=\"relu\"),\n",
        "    layers.Dense(10, activation=\"softmax\")\n",
        "])\n",
        "model.compile(optimizer=keras.optimizers.RMSprop(1e-2),\n",
        "              loss=\"sparse_categorical_crossentropy\",\n",
        "              metrics=[\"accuracy\"])\n",
        "model.fit(train_images, train_labels,\n",
        "          epochs=10,\n",
        "          batch_size=128,\n",
        "          validation_split=0.2)\n",
        "\n",
        "history_model = model.fit(\n",
        "    train_images, train_labels,\n",
        "    epochs=20,\n",
        "    batch_size=128,\n",
        "    validation_split=0.2\n",
        ")"
      ]
    },
    {
      "cell_type": "code",
      "source": [
        "import matplotlib.pyplot as plt\n",
        "val_loss = history_model.history[\"val_loss\"]\n",
        "epochs = range(1, 21)\n",
        "plt.plot(epochs, val_loss, \"b--\",\n",
        "         label=\"Validation loss\")\n",
        "plt.title(\"Effect of insufficient model capacity on validation loss\")\n",
        "plt.xlabel(\"Epochs\")\n",
        "plt.ylabel(\"Loss\")\n",
        "plt.legend()"
      ],
      "metadata": {
        "colab": {
          "base_uri": "https://localhost:8080/",
          "height": 490
        },
        "id": "cRvqg5V_9xF7",
        "outputId": "9c7ccce7-21ce-42f9-ea54-ccc912be38d7"
      },
      "execution_count": 38,
      "outputs": [
        {
          "output_type": "execute_result",
          "data": {
            "text/plain": [
              "<matplotlib.legend.Legend at 0x7f50fae41400>"
            ]
          },
          "metadata": {},
          "execution_count": 38
        },
        {
          "output_type": "display_data",
          "data": {
            "text/plain": [
              "<Figure size 640x480 with 1 Axes>"
            ],
            "image/png": "[encoded data removed]"
          },
          "metadata": {}
        }
      ]
    },
    {
      "cell_type": "markdown",
      "metadata": {
        "id": "3gB9ppU55bni"
      },
      "source": [
        "### Leveraging better architecture priors"
      ]
    },
    {
      "cell_type": "markdown",
      "metadata": {
        "id": "FAH8-X-45bni"
      },
      "source": [
        "### Increasing model capacity"
      ]
    },
    {
      "cell_type": "markdown",
      "metadata": {
        "id": "V9yW8KK55bni"
      },
      "source": [
        "**A simple logistic regression on MNIST**"
      ]
    },
    {
      "cell_type": "code",
      "execution_count": 39,
      "metadata": {
        "id": "G04JjOVt5bni",
        "colab": {
          "base_uri": "https://localhost:8080/"
        },
        "outputId": "a3f1883a-6f62-40c6-9c44-eea035e45a08"
      },
      "outputs": [
        {
          "output_type": "stream",
          "name": "stdout",
          "text": [
            "Epoch 1/20\n",
            "375/375 [==============================] - 2s 4ms/step - loss: 0.6660 - accuracy: 0.8372 - val_loss: 0.3610 - val_accuracy: 0.9007\n",
            "Epoch 2/20\n",
            "375/375 [==============================] - 1s 3ms/step - loss: 0.3539 - accuracy: 0.9022 - val_loss: 0.3114 - val_accuracy: 0.9117\n",
            "Epoch 3/20\n",
            "375/375 [==============================] - 2s 4ms/step - loss: 0.3180 - accuracy: 0.9108 - val_loss: 0.2935 - val_accuracy: 0.9172\n",
            "Epoch 4/20\n",
            "375/375 [==============================] - 2s 4ms/step - loss: 0.3021 - accuracy: 0.9153 - val_loss: 0.2845 - val_accuracy: 0.9211\n",
            "Epoch 5/20\n",
            "375/375 [==============================] - 1s 3ms/step - loss: 0.2923 - accuracy: 0.9186 - val_loss: 0.2807 - val_accuracy: 0.9220\n",
            "Epoch 6/20\n",
            "375/375 [==============================] - 1s 3ms/step - loss: 0.2856 - accuracy: 0.9199 - val_loss: 0.2770 - val_accuracy: 0.9229\n",
            "Epoch 7/20\n",
            "375/375 [==============================] - 1s 3ms/step - loss: 0.2806 - accuracy: 0.9214 - val_loss: 0.2720 - val_accuracy: 0.9247\n",
            "Epoch 8/20\n",
            "375/375 [==============================] - 1s 3ms/step - loss: 0.2770 - accuracy: 0.9232 - val_loss: 0.2698 - val_accuracy: 0.9277\n",
            "Epoch 9/20\n",
            "375/375 [==============================] - 3s 7ms/step - loss: 0.2739 - accuracy: 0.9242 - val_loss: 0.2690 - val_accuracy: 0.9262\n",
            "Epoch 10/20\n",
            "375/375 [==============================] - 2s 5ms/step - loss: 0.2709 - accuracy: 0.9247 - val_loss: 0.2664 - val_accuracy: 0.9271\n",
            "Epoch 11/20\n",
            "375/375 [==============================] - 3s 7ms/step - loss: 0.2687 - accuracy: 0.9256 - val_loss: 0.2654 - val_accuracy: 0.9285\n",
            "Epoch 12/20\n",
            "375/375 [==============================] - 2s 4ms/step - loss: 0.2667 - accuracy: 0.9265 - val_loss: 0.2658 - val_accuracy: 0.9277\n",
            "Epoch 13/20\n",
            "375/375 [==============================] - 1s 3ms/step - loss: 0.2648 - accuracy: 0.9272 - val_loss: 0.2649 - val_accuracy: 0.9283\n",
            "Epoch 14/20\n",
            "375/375 [==============================] - 1s 3ms/step - loss: 0.2635 - accuracy: 0.9271 - val_loss: 0.2648 - val_accuracy: 0.9287\n",
            "Epoch 15/20\n",
            "375/375 [==============================] - 2s 4ms/step - loss: 0.2618 - accuracy: 0.9280 - val_loss: 0.2643 - val_accuracy: 0.9290\n",
            "Epoch 16/20\n",
            "375/375 [==============================] - 2s 4ms/step - loss: 0.2606 - accuracy: 0.9289 - val_loss: 0.2636 - val_accuracy: 0.9287\n",
            "Epoch 17/20\n",
            "375/375 [==============================] - 2s 5ms/step - loss: 0.2594 - accuracy: 0.9285 - val_loss: 0.2631 - val_accuracy: 0.9298\n",
            "Epoch 18/20\n",
            "375/375 [==============================] - 1s 3ms/step - loss: 0.2586 - accuracy: 0.9289 - val_loss: 0.2647 - val_accuracy: 0.9289\n",
            "Epoch 19/20\n",
            "375/375 [==============================] - 2s 4ms/step - loss: 0.2572 - accuracy: 0.9297 - val_loss: 0.2633 - val_accuracy: 0.9279\n",
            "Epoch 20/20\n",
            "375/375 [==============================] - 1s 4ms/step - loss: 0.2562 - accuracy: 0.9298 - val_loss: 0.2639 - val_accuracy: 0.9292\n"
          ]
        }
      ],
      "source": [
        "model = keras.Sequential([layers.Dense(10, activation=\"softmax\")])\n",
        "model.compile(optimizer=\"rmsprop\",\n",
        "              loss=\"sparse_categorical_crossentropy\",\n",
        "              metrics=[\"accuracy\"])\n",
        "history_small_model = model.fit(\n",
        "    train_images, train_labels,\n",
        "    epochs=20,\n",
        "    batch_size=128,\n",
        "    validation_split=0.2)"
      ]
    },
    {
      "cell_type": "code",
      "execution_count": null,
      "metadata": {
        "id": "tSy8fc0i5bni"
      },
      "outputs": [],
      "source": [
        "model = keras.Sequential([\n",
        "    layers.Dense(96, activation=\"relu\"),\n",
        "    layers.Dense(96, activation=\"relu\"),\n",
        "    layers.Dense(10, activation=\"softmax\"),\n",
        "])\n",
        "model.compile(optimizer=\"rmsprop\",\n",
        "              loss=\"sparse_categorical_crossentropy\",\n",
        "              metrics=[\"accuracy\"])\n",
        "history_large_model = model.fit(\n",
        "    train_images, train_labels,\n",
        "    epochs=20,\n",
        "    batch_size=128,\n",
        "    validation_split=0.2)"
      ]
    },
    {
      "cell_type": "code",
      "source": [
        "import matplotlib.pyplot as plt\n",
        "val_small_loss = history_small_model.history[\"val_loss\"]\n",
        "val_large_loss = history_large_model.history[\"val_loss\"]\n",
        "val_original_loss = history_model.history[\"val_loss\"]\n",
        "epochs = range(1, 21)\n",
        "plt.plot(epochs, val_small_loss, \"b--\",\n",
        "         label=\"small capacity loss\")\n",
        "plt.plot(epochs, val_large_loss, \"r--\",\n",
        "         label=\"large capacity loss\")\n",
        "plt.plot(epochs, val_original_loss, \"g--\",\n",
        "         label=\"original loss\")\n",
        "plt.title(\"Effect of inlarger model capacity on validation loss\")\n",
        "plt.xlabel(\"Epochs\")\n",
        "plt.ylabel(\"Loss\")\n",
        "plt.legend()"
      ],
      "metadata": {
        "colab": {
          "base_uri": "https://localhost:8080/",
          "height": 490
        },
        "id": "MLjw_R2AAywz",
        "outputId": "887ea5cd-de78-4fe8-a96a-86a0c679006b"
      },
      "execution_count": 44,
      "outputs": [
        {
          "output_type": "execute_result",
          "data": {
            "text/plain": [
              "<matplotlib.legend.Legend at 0x7f50fcae7730>"
            ]
          },
          "metadata": {},
          "execution_count": 44
        },
        {
          "output_type": "display_data",
          "data": {
            "text/plain": [
              "<Figure size 640x480 with 1 Axes>"
            ],
            "image/png": "[encoded data removed]"
          },
          "metadata": {}
        }
      ]
    },
    {
      "cell_type": "markdown",
      "metadata": {
        "id": "10eh9eKf5bnj"
      },
      "source": [
        "## Improving generalization"
      ]
    },
    {
      "cell_type": "markdown",
      "metadata": {
        "id": "nAonHcij5bnj"
      },
      "source": [
        "### Dataset curation"
      ]
    },
    {
      "cell_type": "markdown",
      "metadata": {
        "id": "QdHI_r3G5bnj"
      },
      "source": [
        "### Feature engineering"
      ]
    },
    {
      "cell_type": "markdown",
      "metadata": {
        "id": "3fC30ZhQ5bnj"
      },
      "source": [
        "### Using early stopping"
      ]
    },
    {
      "cell_type": "markdown",
      "metadata": {
        "id": "2c1HAjkj5bnj"
      },
      "source": [
        "### Regularizing your model"
      ]
    },
    {
      "cell_type": "markdown",
      "metadata": {
        "id": "tEb3LqaT5bnj"
      },
      "source": [
        "#### Reducing the network's size"
      ]
    },
    {
      "cell_type": "markdown",
      "metadata": {
        "id": "DtqUJSKs5bnj"
      },
      "source": [
        "**Original model**"
      ]
    },
    {
      "cell_type": "code",
      "execution_count": null,
      "metadata": {
        "id": "7Rgwx-8K5bnj"
      },
      "outputs": [],
      "source": [
        "from tensorflow.keras.datasets import imdb\n",
        "(train_data, train_labels), _ = imdb.load_data(num_words=10000)\n",
        "\n",
        "def vectorize_sequences(sequences, dimension=10000):\n",
        "    results = np.zeros((len(sequences), dimension))\n",
        "    for i, sequence in enumerate(sequences):\n",
        "        results[i, sequence] = 1.\n",
        "    return results\n",
        "train_data = vectorize_sequences(train_data)\n",
        "\n",
        "model = keras.Sequential([\n",
        "    layers.Dense(16, activation=\"relu\"),\n",
        "    layers.Dense(16, activation=\"relu\"),\n",
        "    layers.Dense(1, activation=\"sigmoid\")\n",
        "])\n",
        "model.compile(optimizer=\"rmsprop\",\n",
        "              loss=\"binary_crossentropy\",\n",
        "              metrics=[\"accuracy\"])\n",
        "history_original = model.fit(train_data, train_labels,\n",
        "                             epochs=20, batch_size=512, validation_split=0.4)"
      ]
    },
    {
      "cell_type": "markdown",
      "metadata": {
        "id": "1z_Dh35F5bnj"
      },
      "source": [
        "**Version of the model with lower capacity**"
      ]
    },
    {
      "cell_type": "code",
      "execution_count": null,
      "metadata": {
        "id": "-ethPVrf5bnk"
      },
      "outputs": [],
      "source": [
        "model = keras.Sequential([\n",
        "    layers.Dense(4, activation=\"relu\"),\n",
        "    layers.Dense(4, activation=\"relu\"),\n",
        "    layers.Dense(1, activation=\"sigmoid\")\n",
        "])\n",
        "model.compile(optimizer=\"rmsprop\",\n",
        "              loss=\"binary_crossentropy\",\n",
        "              metrics=[\"accuracy\"])\n",
        "history_smaller = model.fit(\n",
        "    train_data, train_labels,\n",
        "    epochs=20, batch_size=512, validation_split=0.4)"
      ]
    },
    {
      "cell_type": "markdown",
      "metadata": {
        "id": "jDmUUZcj5bnk"
      },
      "source": [
        "**Version of the model with higher capacity**"
      ]
    },
    {
      "cell_type": "code",
      "execution_count": 20,
      "metadata": {
        "id": "u4xoQcDb5bnk",
        "colab": {
          "base_uri": "https://localhost:8080/"
        },
        "outputId": "f05b5792-82c0-4002-880d-d3a6c85529d9"
      },
      "outputs": [
        {
          "output_type": "stream",
          "name": "stdout",
          "text": [
            "Epoch 1/20\n",
            "30/30 [==============================] - 3s 58ms/step - loss: 0.5752 - accuracy: 0.7172 - val_loss: 0.3682 - val_accuracy: 0.8457\n",
            "Epoch 2/20\n",
            "30/30 [==============================] - 1s 28ms/step - loss: 0.3327 - accuracy: 0.8597 - val_loss: 0.4042 - val_accuracy: 0.8275\n",
            "Epoch 3/20\n",
            "30/30 [==============================] - 1s 28ms/step - loss: 0.2427 - accuracy: 0.9033 - val_loss: 0.3153 - val_accuracy: 0.8704\n",
            "Epoch 4/20\n",
            "30/30 [==============================] - 1s 27ms/step - loss: 0.1804 - accuracy: 0.9283 - val_loss: 0.2765 - val_accuracy: 0.8878\n",
            "Epoch 5/20\n",
            "30/30 [==============================] - 1s 29ms/step - loss: 0.1398 - accuracy: 0.9470 - val_loss: 0.3241 - val_accuracy: 0.8807\n",
            "Epoch 6/20\n",
            "30/30 [==============================] - 1s 28ms/step - loss: 0.1054 - accuracy: 0.9625 - val_loss: 0.4914 - val_accuracy: 0.8441\n",
            "Epoch 7/20\n",
            "30/30 [==============================] - 1s 29ms/step - loss: 0.0813 - accuracy: 0.9713 - val_loss: 0.3539 - val_accuracy: 0.8869\n",
            "Epoch 8/20\n",
            "30/30 [==============================] - 1s 28ms/step - loss: 0.0658 - accuracy: 0.9793 - val_loss: 0.3677 - val_accuracy: 0.8837\n",
            "Epoch 9/20\n",
            "30/30 [==============================] - 1s 29ms/step - loss: 0.0137 - accuracy: 0.9980 - val_loss: 0.4525 - val_accuracy: 0.8836\n",
            "Epoch 10/20\n",
            "30/30 [==============================] - 1s 45ms/step - loss: 0.0901 - accuracy: 0.9787 - val_loss: 0.3971 - val_accuracy: 0.8860\n",
            "Epoch 11/20\n",
            "30/30 [==============================] - 1s 29ms/step - loss: 0.0060 - accuracy: 0.9994 - val_loss: 0.4912 - val_accuracy: 0.8840\n",
            "Epoch 12/20\n",
            "30/30 [==============================] - 1s 30ms/step - loss: 0.0050 - accuracy: 0.9990 - val_loss: 1.8762 - val_accuracy: 0.7124\n",
            "Epoch 13/20\n",
            "30/30 [==============================] - 1s 28ms/step - loss: 0.0566 - accuracy: 0.9863 - val_loss: 0.4843 - val_accuracy: 0.8845\n",
            "Epoch 14/20\n",
            "30/30 [==============================] - 1s 29ms/step - loss: 0.0018 - accuracy: 1.0000 - val_loss: 0.5710 - val_accuracy: 0.8852\n",
            "Epoch 15/20\n",
            "30/30 [==============================] - 1s 29ms/step - loss: 0.0462 - accuracy: 0.9901 - val_loss: 0.5320 - val_accuracy: 0.8700\n",
            "Epoch 16/20\n",
            "30/30 [==============================] - 1s 27ms/step - loss: 0.0038 - accuracy: 1.0000 - val_loss: 0.5082 - val_accuracy: 0.8826\n",
            "Epoch 17/20\n",
            "30/30 [==============================] - 1s 29ms/step - loss: 0.0012 - accuracy: 1.0000 - val_loss: 0.5899 - val_accuracy: 0.8838\n",
            "Epoch 18/20\n",
            "30/30 [==============================] - 1s 27ms/step - loss: 6.3782e-04 - accuracy: 1.0000 - val_loss: 0.6446 - val_accuracy: 0.8834\n",
            "Epoch 19/20\n",
            "30/30 [==============================] - 1s 29ms/step - loss: 4.0482e-04 - accuracy: 1.0000 - val_loss: 0.6842 - val_accuracy: 0.8838\n",
            "Epoch 20/20\n",
            "30/30 [==============================] - 1s 28ms/step - loss: 2.8919e-04 - accuracy: 1.0000 - val_loss: 0.7073 - val_accuracy: 0.8830\n"
          ]
        }
      ],
      "source": [
        "model = keras.Sequential([\n",
        "    layers.Dense(512, activation=\"relu\"),\n",
        "    layers.Dense(512, activation=\"relu\"),\n",
        "    layers.Dense(1, activation=\"sigmoid\")\n",
        "])\n",
        "model.compile(optimizer=\"rmsprop\",\n",
        "              loss=\"binary_crossentropy\",\n",
        "              metrics=[\"accuracy\"])\n",
        "history_larger = model.fit(\n",
        "    train_data, train_labels,\n",
        "    epochs=20, batch_size=512, validation_split=0.4)"
      ]
    },
    {
      "cell_type": "code",
      "source": [
        "import matplotlib.pyplot as plt\n",
        "val_acc_original = history_original.history[\"val_accuracy\"]\n",
        "val_acc_larger = history_larger.history[\"val_accuracy\"]\n",
        "val_acc_smaller = history_smaller.history[\"val_accuracy\"]\n",
        "\n",
        "epochs = range(1, 11)\n",
        "plt.plot(epochs, val_acc_original, \"b-\",\n",
        "         label=\"Validation accuracy with original\")\n",
        "plt.plot(epochs, val_acc_larger, \"r--\",\n",
        "         label=\"Validation accuracy with larger\")\n",
        "plt.title(\"Effect of noise channels on validation accuracy\")\n",
        "plt.plot(epochs, val_acc_smaller, \"g--\",\n",
        "         label=\"Validation accuracy with smaller\")\n",
        "plt.title(\"validation accuracy\")\n",
        "plt.xlabel(\"Epochs\")\n",
        "plt.ylabel(\"Accuracy\")\n",
        "plt.legend()"
      ],
      "metadata": {
        "id": "z4da5OQHBL6E"
      },
      "execution_count": null,
      "outputs": []
    },
    {
      "cell_type": "markdown",
      "metadata": {
        "id": "oEfQofXM5bnk"
      },
      "source": [
        "#### Adding weight regularization"
      ]
    },
    {
      "cell_type": "markdown",
      "metadata": {
        "id": "KrspAxKN5bnk"
      },
      "source": [
        "**Adding L2 weight regularization to the model**"
      ]
    },
    {
      "cell_type": "code",
      "execution_count": null,
      "metadata": {
        "id": "_XXPAI085bnk"
      },
      "outputs": [],
      "source": [
        "from tensorflow.keras import regularizers\n",
        "model = keras.Sequential([\n",
        "    layers.Dense(16,\n",
        "                 kernel_regularizer=regularizers.l2(0.002),\n",
        "                 activation=\"relu\"),\n",
        "    layers.Dense(16,\n",
        "                 kernel_regularizer=regularizers.l2(0.002),\n",
        "                 activation=\"relu\"),\n",
        "    layers.Dense(1, activation=\"sigmoid\")\n",
        "])\n",
        "model.compile(optimizer=\"rmsprop\",\n",
        "              loss=\"binary_crossentropy\",\n",
        "              metrics=[\"accuracy\"])\n",
        "history_l2_reg = model.fit(\n",
        "    train_data, train_labels,\n",
        "    epochs=20, batch_size=512, validation_split=0.4)"
      ]
    },
    {
      "cell_type": "markdown",
      "metadata": {
        "id": "Xi1IFcpI5bnk"
      },
      "source": [
        "**Different weight regularizers available in Keras**"
      ]
    },
    {
      "cell_type": "code",
      "execution_count": null,
      "metadata": {
        "id": "93LrmnSQ5bnk",
        "colab": {
          "base_uri": "https://localhost:8080/"
        },
        "outputId": "1d3b71ac-39a9-480d-91de-4216879c8c5d"
      },
      "outputs": [
        {
          "output_type": "execute_result",
          "data": {
            "text/plain": [
              "<keras.regularizers.L1L2 at 0x7f24203338e0>"
            ]
          },
          "metadata": {},
          "execution_count": 2
        }
      ],
      "source": [
        "from tensorflow.keras import regularizers\n",
        "regularizers.l1(0.001)\n",
        "regularizers.l1_l2(l1=0.001, l2=0.001)"
      ]
    },
    {
      "cell_type": "markdown",
      "metadata": {
        "id": "mxQCw1pm5bnl"
      },
      "source": [
        "#### Adding dropout"
      ]
    },
    {
      "cell_type": "markdown",
      "metadata": {
        "id": "xEPAbzca5bnl"
      },
      "source": [
        "**Adding dropout to the IMDB model**"
      ]
    },
    {
      "cell_type": "code",
      "execution_count": null,
      "metadata": {
        "id": "Ugiy_9-p5bnl",
        "colab": {
          "base_uri": "https://localhost:8080/",
          "height": 248
        },
        "outputId": "f19629ed-af2e-4b3e-bab0-b64ac48223c5"
      },
      "outputs": [
        {
          "output_type": "error",
          "ename": "NameError",
          "evalue": "ignored",
          "traceback": [
            "\u001b[0;31m---------------------------------------------------------------------------\u001b[0m",
            "\u001b[0;31mNameError\u001b[0m                                 Traceback (most recent call last)",
            "\u001b[0;32m<ipython-input-3-38876454a0f3>\u001b[0m in \u001b[0;36m<cell line: 1>\u001b[0;34m()\u001b[0m\n\u001b[0;32m----> 1\u001b[0;31m model = keras.Sequential([\n\u001b[0m\u001b[1;32m      2\u001b[0m     \u001b[0mlayers\u001b[0m\u001b[0;34m.\u001b[0m\u001b[0mDense\u001b[0m\u001b[0;34m(\u001b[0m\u001b[0;36m16\u001b[0m\u001b[0;34m,\u001b[0m \u001b[0mactivation\u001b[0m\u001b[0;34m=\u001b[0m\u001b[0;34m\"relu\"\u001b[0m\u001b[0;34m)\u001b[0m\u001b[0;34m,\u001b[0m\u001b[0;34m\u001b[0m\u001b[0;34m\u001b[0m\u001b[0m\n\u001b[1;32m      3\u001b[0m     \u001b[0mlayers\u001b[0m\u001b[0;34m.\u001b[0m\u001b[0mDropout\u001b[0m\u001b[0;34m(\u001b[0m\u001b[0;36m0.5\u001b[0m\u001b[0;34m)\u001b[0m\u001b[0;34m,\u001b[0m\u001b[0;34m\u001b[0m\u001b[0;34m\u001b[0m\u001b[0m\n\u001b[1;32m      4\u001b[0m     \u001b[0mlayers\u001b[0m\u001b[0;34m.\u001b[0m\u001b[0mDense\u001b[0m\u001b[0;34m(\u001b[0m\u001b[0;36m16\u001b[0m\u001b[0;34m,\u001b[0m \u001b[0mactivation\u001b[0m\u001b[0;34m=\u001b[0m\u001b[0;34m\"relu\"\u001b[0m\u001b[0;34m)\u001b[0m\u001b[0;34m,\u001b[0m\u001b[0;34m\u001b[0m\u001b[0;34m\u001b[0m\u001b[0m\n\u001b[1;32m      5\u001b[0m     \u001b[0mlayers\u001b[0m\u001b[0;34m.\u001b[0m\u001b[0mDropout\u001b[0m\u001b[0;34m(\u001b[0m\u001b[0;36m0.5\u001b[0m\u001b[0;34m)\u001b[0m\u001b[0;34m,\u001b[0m\u001b[0;34m\u001b[0m\u001b[0;34m\u001b[0m\u001b[0m\n",
            "\u001b[0;31mNameError\u001b[0m: name 'keras' is not defined"
          ]
        }
      ],
      "source": [
        "model = keras.Sequential([\n",
        "    layers.Dense(16, activation=\"relu\"),\n",
        "    layers.Dropout(0.5),\n",
        "    layers.Dense(16, activation=\"relu\"),\n",
        "    layers.Dropout(0.5),\n",
        "    layers.Dense(1, activation=\"sigmoid\")\n",
        "])\n",
        "model.compile(optimizer=\"rmsprop\",\n",
        "              loss=\"binary_crossentropy\",\n",
        "              metrics=[\"accuracy\"])\n",
        "history_dropout = model.fit(\n",
        "    train_data, train_labels,\n",
        "    epochs=20, batch_size=512, validation_split=0.4)"
      ]
    },
    {
      "cell_type": "markdown",
      "metadata": {
        "id": "RyWzrFM55bnl"
      },
      "source": [
        "## Summary"
      ]
    }
  ],
  "metadata": {
    "colab": {
      "provenance": [],
      "toc_visible": true,
      "include_colab_link": true
    },
    "kernelspec": {
      "display_name": "Python 3",
      "language": "python",
      "name": "python3"
    },
    "language_info": {
      "codemirror_mode": {
        "name": "ipython",
        "version": 3
      },
      "file_extension": ".py",
      "mimetype": "text/x-python",
      "name": "python",
      "nbconvert_exporter": "python",
      "pygments_lexer": "ipython3",
      "version": "3.7.0"
    },
    "accelerator": "GPU",
    "gpuClass": "standard"
  },
  "nbformat": 4,
  "nbformat_minor": 0
}